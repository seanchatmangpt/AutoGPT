{
 "cells": [
  {
   "cell_type": "code",
   "execution_count": 3,
   "metadata": {
    "collapsed": true,
    "ExecuteTime": {
     "end_time": "2023-10-09T19:53:04.674639Z",
     "start_time": "2023-10-09T19:53:04.668135Z"
    }
   },
   "outputs": [
    {
     "ename": "TypeError",
     "evalue": "create_domain_model_from_yaml() got an unexpected keyword argument 'filepath'",
     "output_type": "error",
     "traceback": [
      "\u001B[0;31m---------------------------------------------------------------------------\u001B[0m",
      "\u001B[0;31mTypeError\u001B[0m                                 Traceback (most recent call last)",
      "Cell \u001B[0;32mIn[3], line 14\u001B[0m\n\u001B[1;32m      1\u001B[0m \u001B[38;5;28;01mfrom\u001B[39;00m \u001B[38;5;21;01mmatrix_factory\u001B[39;00m\u001B[38;5;21;01m.\u001B[39;00m\u001B[38;5;21;01mcreate\u001B[39;00m \u001B[38;5;28;01mimport\u001B[39;00m create_domain_model_from_yaml\n\u001B[1;32m      3\u001B[0m prompt \u001B[38;5;241m=\u001B[39m \u001B[38;5;124m\"\"\"\u001B[39m\u001B[38;5;124mOnlineContractAdminCapability:\u001B[39m\n\u001B[1;32m      4\u001B[0m \u001B[38;5;124m  overview_description: \u001B[39m\u001B[38;5;124m\"\u001B[39m\u001B[38;5;124mWelcome to the Contract Administration Capability of My Application.\u001B[39m\u001B[38;5;124m\"\u001B[39m\n\u001B[1;32m      5\u001B[0m \u001B[38;5;124m  features:\u001B[39m\n\u001B[0;32m   (...)\u001B[0m\n\u001B[1;32m     11\u001B[0m \u001B[38;5;124m    - \u001B[39m\u001B[38;5;124m\"\u001B[39m\u001B[38;5;124mContract Health Monitoring and Reporting\u001B[39m\u001B[38;5;124m\"\u001B[39m\n\u001B[1;32m     12\u001B[0m \u001B[38;5;124m    \u001B[39m\u001B[38;5;124m\"\"\"\u001B[39m\n\u001B[0;32m---> 14\u001B[0m \u001B[43mcreate_domain_model_from_yaml\u001B[49m\u001B[43m(\u001B[49m\u001B[43mprompt\u001B[49m\u001B[43m,\u001B[49m\u001B[43m \u001B[49m\u001B[43mfilepath\u001B[49m\u001B[38;5;241;43m=\u001B[39;49m\u001B[38;5;124;43m\"\u001B[39;49m\u001B[38;5;124;43monline_contract_admin_model.py\u001B[39;49m\u001B[38;5;124;43m\"\u001B[39;49m\u001B[43m)\u001B[49m\n",
      "\u001B[0;31mTypeError\u001B[0m: create_domain_model_from_yaml() got an unexpected keyword argument 'filepath'"
     ]
    }
   ],
   "source": []
  },
  {
   "cell_type": "code",
   "execution_count": 1,
   "outputs": [
    {
     "name": "stderr",
     "output_type": "stream",
     "text": [
      "\u001B[32m2023-10-09 13:01:40.338\u001B[0m | \u001B[1mINFO    \u001B[0m | \u001B[36mmatrix_factory.create\u001B[0m:\u001B[36m__chat\u001B[0m:\u001B[36m126\u001B[0m - \u001B[1mPrompt: In order to fulfill these instructions, we will parse the YAML input you have provided and create a Python domain model named `OnlineContractAdminCapability`. Our model will embody Pythonic principles and design domains as stated in the books \"Fluent Python\", \"Implementing Domain Driven Design\", and \"The Pragmatic Programmer\". Please note that you didn't provide specific fields for the model, so I will base it on the provided feature sets.\n",
      "\n",
      "Please see the Python code below for a potential implementation:\n",
      "\n",
      "```python\n",
      "import yaml\n",
      "from dataclasses import dataclass\n",
      "from typing import List, Optional\n",
      "\n",
      "# Parse the YAML input.\n",
      "yml_data = \"\"\"\n",
      "OnlineContractAdminCapability:\n",
      "  overview_description: \"Welcome to the Contract Administration Capability of My Application.\"\n",
      "  features:\n",
      "    - \"Dashboard with Contract Metrics (e.g., approval rates, pending reviews)\"\n",
      "    - \"Interactive Contract Query Tool with Natural Language Processing\"\n",
      "    - \"Tolerance and Compliance Rule Management\"\n",
      "    - \"Stack Management with Label Customization\"\n",
      "    - \"Automatic and Manual Tolerance Adjustments\"\n",
      "    - \"Contract Health Monitoring and Reporting\"\n",
      "\"\"\"\n",
      "\n",
      "capability = yaml.load(yml_data, Loader=yaml.FullLoader)[\"OnlineContractAdminCapability\"]\n",
      "\n",
      "@dataclass\n",
      "class ContractMetrics:\n",
      "    approval_rates: Optional[float] = None\n",
      "    pending_reviews: Optional[float] = None\n",
      "\n",
      "@dataclass\n",
      "class Tool:\n",
      "    query: Optional[str] = None\n",
      "    language_processing_disabled: Optional[bool] = None\n",
      "\n",
      "@dataclass\n",
      "class RuleManagement:\n",
      "    tolerance: Optional[bool] = None\n",
      "    compliance: Optional[bool] = None\n",
      "\n",
      "@dataclass\n",
      "class StackManagement:\n",
      "    label_customization_disabled: Optional[bool] = None\n",
      "\n",
      "@dataclass\n",
      "class ToleranceAdjustments:\n",
      "    auto_adjust: Optional[bool] = None\n",
      "    manual_adjust: Optional[bool] = None\n",
      "\n",
      "@dataclass\n",
      "class ContractHealth:\n",
      "    monitoring_disabled: Optional[bool] = None\n",
      "    report: Optional[str] = None\n",
      "\n",
      "\n",
      "@dataclass\n",
      "class OnlineContractAdminCapability:\n",
      "    overview_description: str = capability[\"overview_description\"]\n",
      "    dashboard: ContractMetrics = ContractMetrics()\n",
      "    tool: Tool = Tool()\n",
      "    rule_mgmt: RuleManagement = RuleManagement()\n",
      "    stack_mgmt: StackManagement = StackManagement()\n",
      "    tolerance_adj: ToleranceAdjustments = ToleranceAdjustments()\n",
      "    contract_health: ContractHealth = ContractHealth()\n",
      "```\n",
      "\n",
      "This code first defines multiple `dataclasses` that correspond to the features of `OnlineContractAdminCapability`. Then it parses the YAML string into a Python dict, from which the `overview_description` field's value is taken. Finally, it creates the `OnlineContractAdminCapability` domain model, using the `dataclass` decorator to generate boilerplate code (e.g., `__init__`, `__repr__`), and it sets default values for its fields using the previously defined `dataclasses`.\u001B[0m\n",
      "\u001B[32m2023-10-09 13:01:40.338\u001B[0m | \u001B[1mINFO    \u001B[0m | \u001B[36mmatrix_factory.create\u001B[0m:\u001B[36m__chat\u001B[0m:\u001B[36m127\u001B[0m - \u001B[1mResult: In order to fulfill these instructions, we will parse the YAML input you have provided and create a Python domain model named `OnlineContractAdminCapability`. Our model will embody Pythonic principles and design domains as stated in the books \"Fluent Python\", \"Implementing Domain Driven Design\", and \"The Pragmatic Programmer\". Please note that you didn't provide specific fields for the model, so I will base it on the provided feature sets.\n",
      "\n",
      "Please see the Python code below for a potential implementation:\n",
      "\n",
      "```python\n",
      "import yaml\n",
      "from dataclasses import dataclass\n",
      "from typing import List, Optional\n",
      "\n",
      "# Parse the YAML input.\n",
      "yml_data = \"\"\"\n",
      "OnlineContractAdminCapability:\n",
      "  overview_description: \"Welcome to the Contract Administration Capability of My Application.\"\n",
      "  features:\n",
      "    - \"Dashboard with Contract Metrics (e.g., approval rates, pending reviews)\"\n",
      "    - \"Interactive Contract Query Tool with Natural Language Processing\"\n",
      "    - \"Tolerance and Compliance Rule Management\"\n",
      "    - \"Stack Management with Label Customization\"\n",
      "    - \"Automatic and Manual Tolerance Adjustments\"\n",
      "    - \"Contract Health Monitoring and Reporting\"\n",
      "\"\"\"\n",
      "\n",
      "capability = yaml.load(yml_data, Loader=yaml.FullLoader)[\"OnlineContractAdminCapability\"]\n",
      "\n",
      "@dataclass\n",
      "class ContractMetrics:\n",
      "    approval_rates: Optional[float] = None\n",
      "    pending_reviews: Optional[float] = None\n",
      "\n",
      "@dataclass\n",
      "class Tool:\n",
      "    query: Optional[str] = None\n",
      "    language_processing_disabled: Optional[bool] = None\n",
      "\n",
      "@dataclass\n",
      "class RuleManagement:\n",
      "    tolerance: Optional[bool] = None\n",
      "    compliance: Optional[bool] = None\n",
      "\n",
      "@dataclass\n",
      "class StackManagement:\n",
      "    label_customization_disabled: Optional[bool] = None\n",
      "\n",
      "@dataclass\n",
      "class ToleranceAdjustments:\n",
      "    auto_adjust: Optional[bool] = None\n",
      "    manual_adjust: Optional[bool] = None\n",
      "\n",
      "@dataclass\n",
      "class ContractHealth:\n",
      "    monitoring_disabled: Optional[bool] = None\n",
      "    report: Optional[str] = None\n",
      "\n",
      "\n",
      "@dataclass\n",
      "class OnlineContractAdminCapability:\n",
      "    overview_description: str = capability[\"overview_description\"]\n",
      "    dashboard: ContractMetrics = ContractMetrics()\n",
      "    tool: Tool = Tool()\n",
      "    rule_mgmt: RuleManagement = RuleManagement()\n",
      "    stack_mgmt: StackManagement = StackManagement()\n",
      "    tolerance_adj: ToleranceAdjustments = ToleranceAdjustments()\n",
      "    contract_health: ContractHealth = ContractHealth()\n",
      "```\n",
      "\n",
      "This code first defines multiple `dataclasses` that correspond to the features of `OnlineContractAdminCapability`. Then it parses the YAML string into a Python dict, from which the `overview_description` field's value is taken. Finally, it creates the `OnlineContractAdminCapability` domain model, using the `dataclass` decorator to generate boilerplate code (e.g., `__init__`, `__repr__`), and it sets default values for its fields using the previously defined `dataclasses`.\u001B[0m\n"
     ]
    },
    {
     "data": {
      "text/plain": "'In order to fulfill these instructions, we will parse the YAML input you have provided and create a Python domain model named `OnlineContractAdminCapability`. Our model will embody Pythonic principles and design domains as stated in the books \"Fluent Python\", \"Implementing Domain Driven Design\", and \"The Pragmatic Programmer\". Please note that you didn\\'t provide specific fields for the model, so I will base it on the provided feature sets.\\n\\nPlease see the Python code below for a potential implementation:\\n\\n```python\\nimport yaml\\nfrom dataclasses import dataclass\\nfrom typing import List, Optional\\n\\n# Parse the YAML input.\\nyml_data = \"\"\"\\nOnlineContractAdminCapability:\\n  overview_description: \"Welcome to the Contract Administration Capability of My Application.\"\\n  features:\\n    - \"Dashboard with Contract Metrics (e.g., approval rates, pending reviews)\"\\n    - \"Interactive Contract Query Tool with Natural Language Processing\"\\n    - \"Tolerance and Compliance Rule Management\"\\n    - \"Stack Management with Label Customization\"\\n    - \"Automatic and Manual Tolerance Adjustments\"\\n    - \"Contract Health Monitoring and Reporting\"\\n\"\"\"\\n\\ncapability = yaml.load(yml_data, Loader=yaml.FullLoader)[\"OnlineContractAdminCapability\"]\\n\\n@dataclass\\nclass ContractMetrics:\\n    approval_rates: Optional[float] = None\\n    pending_reviews: Optional[float] = None\\n\\n@dataclass\\nclass Tool:\\n    query: Optional[str] = None\\n    language_processing_disabled: Optional[bool] = None\\n\\n@dataclass\\nclass RuleManagement:\\n    tolerance: Optional[bool] = None\\n    compliance: Optional[bool] = None\\n\\n@dataclass\\nclass StackManagement:\\n    label_customization_disabled: Optional[bool] = None\\n\\n@dataclass\\nclass ToleranceAdjustments:\\n    auto_adjust: Optional[bool] = None\\n    manual_adjust: Optional[bool] = None\\n\\n@dataclass\\nclass ContractHealth:\\n    monitoring_disabled: Optional[bool] = None\\n    report: Optional[str] = None\\n\\n\\n@dataclass\\nclass OnlineContractAdminCapability:\\n    overview_description: str = capability[\"overview_description\"]\\n    dashboard: ContractMetrics = ContractMetrics()\\n    tool: Tool = Tool()\\n    rule_mgmt: RuleManagement = RuleManagement()\\n    stack_mgmt: StackManagement = StackManagement()\\n    tolerance_adj: ToleranceAdjustments = ToleranceAdjustments()\\n    contract_health: ContractHealth = ContractHealth()\\n```\\n\\nThis code first defines multiple `dataclasses` that correspond to the features of `OnlineContractAdminCapability`. Then it parses the YAML string into a Python dict, from which the `overview_description` field\\'s value is taken. Finally, it creates the `OnlineContractAdminCapability` domain model, using the `dataclass` decorator to generate boilerplate code (e.g., `__init__`, `__repr__`), and it sets default values for its fields using the previously defined `dataclasses`.'"
     },
     "execution_count": 1,
     "metadata": {},
     "output_type": "execute_result"
    }
   ],
   "source": [
    "from matrix_factory.create import create_domain_model_from_yaml\n",
    "\n",
    "prompt = \"\"\"OnlineContractAdminCapability:\n",
    "  overview_description: \"Welcome to the Contract Administration Capability of My Application.\"\n",
    "  features:\n",
    "    - \"Dashboard with Contract Metrics (e.g., approval rates, pending reviews)\"\n",
    "    - \"Interactive Contract Query Tool with Natural Language Processing\"\n",
    "    - \"Tolerance and Compliance Rule Management\"\n",
    "    - \"Stack Management with Label Customization\"\n",
    "    - \"Automatic and Manual Tolerance Adjustments\"\n",
    "    - \"Contract Health Monitoring and Reporting\"\n",
    "    \"\"\"\n",
    "\n",
    "await create_domain_model_from_yaml(prompt, filepath=\"online_contract_admin_model.py\")"
   ],
   "metadata": {
    "collapsed": false,
    "ExecuteTime": {
     "end_time": "2023-10-09T20:01:40.347777Z",
     "start_time": "2023-10-09T20:00:52.382288Z"
    }
   }
  },
  {
   "cell_type": "code",
   "execution_count": 4,
   "outputs": [],
   "source": [
    "from matrix_factory.gen_full import data"
   ],
   "metadata": {
    "collapsed": false,
    "ExecuteTime": {
     "end_time": "2023-10-09T19:53:10.499256Z",
     "start_time": "2023-10-09T19:53:10.496986Z"
    }
   }
  },
  {
   "cell_type": "code",
   "execution_count": null,
   "outputs": [],
   "source": [],
   "metadata": {
    "collapsed": false
   }
  }
 ],
 "metadata": {
  "kernelspec": {
   "display_name": "Python 3",
   "language": "python",
   "name": "python3"
  },
  "language_info": {
   "codemirror_mode": {
    "name": "ipython",
    "version": 2
   },
   "file_extension": ".py",
   "mimetype": "text/x-python",
   "name": "python",
   "nbconvert_exporter": "python",
   "pygments_lexer": "ipython2",
   "version": "2.7.6"
  }
 },
 "nbformat": 4,
 "nbformat_minor": 0
}

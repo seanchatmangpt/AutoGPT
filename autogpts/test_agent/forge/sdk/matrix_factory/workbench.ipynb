{
 "cells": [
  {
   "cell_type": "code",
   "execution_count": 46,
   "metadata": {
    "collapsed": true,
    "ExecuteTime": {
     "end_time": "2023-10-06T20:16:44.175158Z",
     "start_time": "2023-10-06T20:16:30.369891Z"
    }
   },
   "outputs": [
    {
     "name": "stdout",
     "output_type": "stream",
     "text": [
      "GPT-3.5-turbo response: \n",
      " Sure, I can help you create a basic Jinja2 template. However, please note that Jinja2 templates are generally used for dynamic content. Since 'Setup_Environment' is a static string, creating a template for it would not have any benefit. Still, here is an example:\n",
      "\n",
      "```jinja\n",
      "{% set environment = 'Setup_Environment' %}\n",
      "{{ environment }}\n",
      "```\n",
      "\n",
      "In the example above, `{% set environment = 'Setup_Environment' %}` sets a variable called `environment` with the value `'Setup_Environment'`. `{{ environment }}` is then used to display the value of this variable. The final rendered string would be 'Setup_Environment'. If you need a template with more specific content, I'd be happy to help if you provide further details.\n",
      "Jinja template created from the GPT-3.5-turbo response: \n",
      " <Template memory:14ab87150>\n",
      "Sure, I can help you create a basic Jinja2 template. However, please note that Jinja2 templates are generally used for dynamic content. Since 'Setup_Environment' is a static string, creating a template for it would not have any benefit. Still, here is an example:\n",
      "\n",
      "```jinja\n",
      "\n",
      "Setup_Environment\n",
      "```\n",
      "\n",
      "In the example above, `` sets a variable called `environment` with the value `'Setup_Environment'`. `Setup_Environment` is then used to display the value of this variable. The final rendered string would be 'Setup_Environment'. If you need a template with more specific content, I'd be happy to help if you provide further details.\n"
     ]
    }
   ],
   "source": [
    "from fgn.completion.chat import chat\n",
    "import pyperclip\n",
    "import openai\n",
    "from jinja2 import Template\n",
    "\n",
    "\n",
    "def text_to_jinja_template_with_openai():\n",
    "    \"\"\"\n",
    "    This function retrieves text from the clipboard, sends it to the GPT-3.5-turbo model\n",
    "    to request a Jinja template version of the text, and then converts the response into a Jinja2 template.\n",
    "\n",
    "    Steps:\n",
    "    1. Retrieve text from clipboard using pyperclip.\n",
    "    2. Send the clipboard text as a prompt to GPT-3.5-turbo.\n",
    "    3. Convert the GPT-3.5-turbo response into a Jinja2 template.\n",
    "    4. Return the created Jinja2 template.\n",
    "\n",
    "    Returns:\n",
    "        Template: Jinja2 template created from the GPT-3.5-turbo response.\n",
    "\n",
    "    Example:\n",
    "    1. If clipboard content is: \"Turn 'Hello, world!' into a Jinja template.\"\n",
    "    2. The function will return a Jinja2 template equivalent to: \"Hello, {{ name }}!\".\n",
    "\n",
    "    Note:\n",
    "    You must have Jinja2, pyperclip, and openai libraries installed:\n",
    "    `pip install Jinja2 pyperclip openai`\n",
    "\n",
    "    \"\"\"\n",
    "    # Retrieve text from clipboard\n",
    "    clipboard_text = pyperclip.paste()\n",
    "\n",
    "    # Create a prompt for GPT-3.5-turbo to get the Jinja template equivalent\n",
    "    prompt_text = f\"Convert the following text into a Jinja template: '{clipboard_text}'\"\n",
    "\n",
    "    # Query GPT-3.5-turbo\n",
    "    response = chat(prompt_text)\n",
    "\n",
    "    print(\"GPT-3.5-turbo response: \\n\", response)\n",
    "\n",
    "    # Convert the GPT-3.5-turbo response into a Jinja2 template\n",
    "    jinja_template = Template(response)\n",
    "\n",
    "    print(\"Jinja template created from the GPT-3.5-turbo response: \\n\", jinja_template)\n",
    "\n",
    "    return jinja_template\n",
    "\n",
    "# Usage example:\n",
    "template = text_to_jinja_template_with_openai()\n",
    "rendered_text = template.render(name=\"John\")\n",
    "print(rendered_text)\n"
   ]
  },
  {
   "cell_type": "code",
   "execution_count": 47,
   "outputs": [],
   "source": [
    "import asyncio\n",
    "import yaml\n",
    "\n",
    "from lchop.context.browser_context import BrowserContext\n",
    "from lchop.context.task_context import TaskContext\n",
    "from lchop.context.template_context import TemplateContext\n",
    "from lchop.context.work_context import WorkContext, default_work_context, load_workflow\n",
    "\n",
    "\n",
    "def generate_task_code_from_workflow(workflow_path, task_code_path, work_ctx):\n",
    "    try:\n",
    "        with open(workflow_path, \"r\") as stream:\n",
    "            workflow_config = yaml.safe_load(stream)\n",
    "\n",
    "        rendered = work_ctx.template_ctx.render_file_template(\n",
    "            \"task_function_template.j2\", workflow=workflow_config.get(\"workflow\")\n",
    "        )\n",
    "\n",
    "        with open(task_code_path, \"w\") as f:\n",
    "            f.write(rendered)\n",
    "\n",
    "        return {\n",
    "            \"success\": True,\n",
    "            \"results\": f\"Successfully generated code in {task_code_path}\",\n",
    "        }\n",
    "\n",
    "    except Exception as e:\n",
    "        return {\"success\": False, \"results\": f\"Failed to generate code: {str(e)}\"}\n",
    "\n",
    "    # result = generate_task_code_from_workflow(\n",
    "    #     \"workflow.yaml\", \"generated_tasks.py\", work_ctx\n",
    "    # )\n",
    "    # print(result)\n"
   ],
   "metadata": {
    "collapsed": false,
    "ExecuteTime": {
     "end_time": "2023-10-06T20:16:44.180356Z",
     "start_time": "2023-10-06T20:16:44.178356Z"
    }
   }
  },
  {
   "cell_type": "code",
   "execution_count": 48,
   "outputs": [
    {
     "name": "stderr",
     "output_type": "stream",
     "text": [
      "\u001B[32m2023-10-06 13:16:44.220\u001B[0m | \u001B[1mINFO    \u001B[0m | \u001B[36mlchop.context.template_context\u001B[0m:\u001B[36m__init__\u001B[0m:\u001B[36m13\u001B[0m - \u001B[1mTemplateContext initialized.\u001B[0m\n",
      "\u001B[32m2023-10-06 13:16:44.221\u001B[0m | \u001B[1mINFO    \u001B[0m | \u001B[36mlchop.context.work_context\u001B[0m:\u001B[36m__init__\u001B[0m:\u001B[36m29\u001B[0m - \u001B[1mWorkContext initialized.\u001B[0m\n",
      "\u001B[32m2023-10-06 13:16:44.223\u001B[0m | \u001B[1mINFO    \u001B[0m | \u001B[36mlchop.context.work_context\u001B[0m:\u001B[36mexe_workflow\u001B[0m:\u001B[36m99\u001B[0m - \u001B[1mStarting workflow execution.\u001B[0m\n",
      "\u001B[32m2023-10-06 13:16:44.223\u001B[0m | \u001B[1mINFO    \u001B[0m | \u001B[36mlchop.context.work_context\u001B[0m:\u001B[36minject_tasks\u001B[0m:\u001B[36m33\u001B[0m - \u001B[1mAttempting to identify and execute 'load_workflow' tasks...\u001B[0m\n",
      "\u001B[32m2023-10-06 13:16:44.224\u001B[0m | \u001B[1mINFO    \u001B[0m | \u001B[36mlchop.context.work_context\u001B[0m:\u001B[36minject_tasks\u001B[0m:\u001B[36m42\u001B[0m - \u001B[1m'load_workflow' tasks not found. Skipping injection.\u001B[0m\n",
      "\u001B[32m2023-10-06 13:16:44.224\u001B[0m | \u001B[1mINFO    \u001B[0m | \u001B[36mlchop.context.work_context\u001B[0m:\u001B[36mexe_task\u001B[0m:\u001B[36m80\u001B[0m - \u001B[1mExecuting Setup_Environment: Initialize and setup the necessary environment and configurations\u001B[0m\n"
     ]
    },
    {
     "ename": "TypeError",
     "evalue": "Setup_Environment() got an unexpected keyword argument 'task_ctx'",
     "output_type": "error",
     "traceback": [
      "\u001B[0;31m---------------------------------------------------------------------------\u001B[0m",
      "\u001B[0;31mTypeError\u001B[0m                                 Traceback (most recent call last)",
      "Cell \u001B[0;32mIn[48], line 5\u001B[0m\n\u001B[1;32m      2\u001B[0m \u001B[38;5;28;01mfrom\u001B[39;00m \u001B[38;5;21;01mlchop\u001B[39;00m\u001B[38;5;21;01m.\u001B[39;00m\u001B[38;5;21;01mtasks\u001B[39;00m\u001B[38;5;21;01m.\u001B[39;00m\u001B[38;5;21;01mgen_email_tasks\u001B[39;00m \u001B[38;5;28;01mimport\u001B[39;00m \u001B[38;5;241m*\u001B[39m\n\u001B[1;32m      3\u001B[0m work_ctx \u001B[38;5;241m=\u001B[39m default_work_context()\n\u001B[0;32m----> 5\u001B[0m \u001B[38;5;28;01mawait\u001B[39;00m load_workflow(work_ctx, \u001B[38;5;124m\"\u001B[39m\u001B[38;5;124mworkflow.yaml\u001B[39m\u001B[38;5;124m\"\u001B[39m)\n\u001B[1;32m      6\u001B[0m \u001B[38;5;28mprint\u001B[39m(work_ctx\u001B[38;5;241m.\u001B[39mtask_ctx\u001B[38;5;241m.\u001B[39mresults)\n",
      "File \u001B[0;32m~/dev/linkml-projects/matrix-factory/src/lchop/context/work_context.py:128\u001B[0m, in \u001B[0;36mload_workflow\u001B[0;34m(work_ctx, filepath, yaml_string)\u001B[0m\n\u001B[1;32m    126\u001B[0m     workflow_config \u001B[38;5;241m=\u001B[39m Munch\u001B[38;5;241m.\u001B[39mfromDict(yaml\u001B[38;5;241m.\u001B[39msafe_load(stream))\n\u001B[1;32m    127\u001B[0m     work_ctx\u001B[38;5;241m.\u001B[39mglobal_params \u001B[38;5;241m=\u001B[39m workflow_config\u001B[38;5;241m.\u001B[39mget(\u001B[38;5;124m\"\u001B[39m\u001B[38;5;124mglobal_params\u001B[39m\u001B[38;5;124m\"\u001B[39m, {})\n\u001B[0;32m--> 128\u001B[0m     \u001B[38;5;28;01mreturn\u001B[39;00m \u001B[38;5;28;01mawait\u001B[39;00m exe_workflow(workflow_config, work_ctx)\n\u001B[1;32m    129\u001B[0m \u001B[38;5;28;01mexcept\u001B[39;00m yaml\u001B[38;5;241m.\u001B[39mYAMLError \u001B[38;5;28;01mas\u001B[39;00m e:\n\u001B[1;32m    130\u001B[0m     logger\u001B[38;5;241m.\u001B[39merror(\u001B[38;5;124mf\u001B[39m\u001B[38;5;124m\"\u001B[39m\u001B[38;5;124mError loading YAML file: \u001B[39m\u001B[38;5;132;01m{\u001B[39;00me\u001B[38;5;132;01m}\u001B[39;00m\u001B[38;5;124m\"\u001B[39m)\n",
      "File \u001B[0;32m~/dev/linkml-projects/matrix-factory/src/lchop/context/work_context.py:104\u001B[0m, in \u001B[0;36mexe_workflow\u001B[0;34m(workflow_config, work_ctx)\u001B[0m\n\u001B[1;32m    101\u001B[0m \u001B[38;5;28;01mawait\u001B[39;00m inject_tasks(workflow_config, work_ctx)\n\u001B[1;32m    103\u001B[0m \u001B[38;5;28;01mfor\u001B[39;00m task_config \u001B[38;5;129;01min\u001B[39;00m workflow_config\u001B[38;5;241m.\u001B[39mworkflow:\n\u001B[0;32m--> 104\u001B[0m     task_result \u001B[38;5;241m=\u001B[39m \u001B[38;5;28;01mawait\u001B[39;00m exe_task(task_config, work_ctx)\n\u001B[1;32m    106\u001B[0m     \u001B[38;5;28;01mif\u001B[39;00m \u001B[38;5;129;01mnot\u001B[39;00m task_result[\u001B[38;5;124m\"\u001B[39m\u001B[38;5;124msuccess\u001B[39m\u001B[38;5;124m\"\u001B[39m]:\n\u001B[1;32m    107\u001B[0m         logger\u001B[38;5;241m.\u001B[39merror(\n\u001B[1;32m    108\u001B[0m             \u001B[38;5;124mf\u001B[39m\u001B[38;5;124m\"\u001B[39m\u001B[38;5;124mTask \u001B[39m\u001B[38;5;132;01m{\u001B[39;00mtask_config[\u001B[38;5;124m'\u001B[39m\u001B[38;5;124mname\u001B[39m\u001B[38;5;124m'\u001B[39m]\u001B[38;5;132;01m}\u001B[39;00m\u001B[38;5;124m (\u001B[39m\u001B[38;5;132;01m{\u001B[39;00mtask_config[\u001B[38;5;124m'\u001B[39m\u001B[38;5;124mfunc\u001B[39m\u001B[38;5;124m'\u001B[39m]\u001B[38;5;132;01m}\u001B[39;00m\u001B[38;5;124m) failed. Stopping workflow.\u001B[39m\u001B[38;5;124m\"\u001B[39m\n\u001B[1;32m    109\u001B[0m         )\n",
      "File \u001B[0;32m~/dev/linkml-projects/matrix-factory/src/lchop/context/work_context.py:88\u001B[0m, in \u001B[0;36mexe_task\u001B[0;34m(task_config, work_ctx)\u001B[0m\n\u001B[1;32m     86\u001B[0m params[\u001B[38;5;124m\"\u001B[39m\u001B[38;5;124mwork_ctx\u001B[39m\u001B[38;5;124m\"\u001B[39m] \u001B[38;5;241m=\u001B[39m work_ctx\n\u001B[1;32m     87\u001B[0m params\u001B[38;5;241m.\u001B[39mupdate(work_ctx\u001B[38;5;241m.\u001B[39m\u001B[38;5;18m__dict__\u001B[39m)\n\u001B[0;32m---> 88\u001B[0m params\u001B[38;5;241m.\u001B[39mupdate(global_params)\n\u001B[1;32m     89\u001B[0m result \u001B[38;5;241m=\u001B[39m \u001B[38;5;28;01mawait\u001B[39;00m implementation(\u001B[38;5;241m*\u001B[39m\u001B[38;5;241m*\u001B[39mparams)\n\u001B[1;32m     91\u001B[0m logger\u001B[38;5;241m.\u001B[39minfo(\u001B[38;5;124mf\u001B[39m\u001B[38;5;124m\"\u001B[39m\u001B[38;5;124mTask \u001B[39m\u001B[38;5;132;01m{\u001B[39;00mfunc_name\u001B[38;5;132;01m}\u001B[39;00m\u001B[38;5;124m completed with result: \u001B[39m\u001B[38;5;132;01m{\u001B[39;00mresult\u001B[38;5;132;01m}\u001B[39;00m\u001B[38;5;124m\"\u001B[39m)\n",
      "\u001B[0;31mTypeError\u001B[0m: Setup_Environment() got an unexpected keyword argument 'task_ctx'"
     ]
    }
   ],
   "source": [
    "# Example usage\n",
    "from lchop.tasks.gen_email_tasks import *\n",
    "work_ctx = default_work_context()\n",
    "\n",
    "await load_workflow(work_ctx, \"workflow.yaml\")\n",
    "print(work_ctx.task_ctx.results)\n",
    "\n"
   ],
   "metadata": {
    "collapsed": false,
    "ExecuteTime": {
     "end_time": "2023-10-06T20:16:44.256017Z",
     "start_time": "2023-10-06T20:16:44.181073Z"
    }
   }
  },
  {
   "cell_type": "code",
   "execution_count": null,
   "outputs": [],
   "source": [],
   "metadata": {
    "collapsed": false
   }
  },
  {
   "cell_type": "code",
   "execution_count": null,
   "outputs": [],
   "source": [],
   "metadata": {
    "collapsed": false
   }
  }
 ],
 "metadata": {
  "kernelspec": {
   "display_name": "Python 3",
   "language": "python",
   "name": "python3"
  },
  "language_info": {
   "codemirror_mode": {
    "name": "ipython",
    "version": 2
   },
   "file_extension": ".py",
   "mimetype": "text/x-python",
   "name": "python",
   "nbconvert_exporter": "python",
   "pygments_lexer": "ipython2",
   "version": "2.7.6"
  }
 },
 "nbformat": 4,
 "nbformat_minor": 0
}

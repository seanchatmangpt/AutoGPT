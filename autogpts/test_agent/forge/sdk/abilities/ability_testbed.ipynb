{
 "cells": [
  {
   "cell_type": "code",
   "execution_count": 2,
   "metadata": {
    "collapsed": true,
    "ExecuteTime": {
     "end_time": "2023-10-22T01:53:57.896393Z",
     "start_time": "2023-10-22T01:53:57.892994Z"
    }
   },
   "outputs": [
    {
     "name": "stdout",
     "output_type": "stream",
     "text": [
      "CPU times: user 11 µs, sys: 1 µs, total: 12 µs\n",
      "Wall time: 14.1 µs\n"
     ]
    },
    {
     "data": {
      "text/plain": "{'ability': {'args': {'question': '',\n   'url': 'https://lablab.ai/event/autogpt-arena-hacks'},\n  'name': 'read_webpage'},\n 'thoughts': {'criticism': \"The initial information extraction may not capture all the important details. It's crucial to review and revise the PRD to ensure accuracy and completeness.\",\n  'plan': \"- Use 'read_webpage' ability to extract key details from the webpage.\\n- Organize the extracted information into a structured PRD format.\\n- Include relevant sections such as Introduction, Product Goals, Features, User Stories, Assumptions, Constraints, and Dependencies.\\n- Provide clear and concise descriptions for each section.\\n- Review and refine the PRD to ensure its completeness and alignment with user requirements.\",\n  'reasoning': \"I will use the 'read_webpage' ability to extract the necessary information from the webpage.\",\n  'speak': 'I will create a PRD based on the content of the webpage. I will extract the necessary information and organize it in a structured format to capture the product goals, features, user stories, and other essential details.',\n  'text': 'I have reviewed the given webpage and I will create a PRD based on its content.'}}"
     },
     "execution_count": 2,
     "metadata": {},
     "output_type": "execute_result"
    }
   ],
   "source": [
    "%%time\n",
    "plan = {'ability': {'args': {'question': '',\n",
    "                      'url': 'https://lablab.ai/event/autogpt-arena-hacks'},\n",
    "             'name': 'read_webpage'},\n",
    " 'thoughts': {'criticism': 'The initial information extraction may not capture '\n",
    "                           \"all the important details. It's crucial to review \"\n",
    "                           'and revise the PRD to ensure accuracy and '\n",
    "                           'completeness.',\n",
    "              'plan': \"- Use 'read_webpage' ability to extract key details \"\n",
    "                      'from the webpage.\\n'\n",
    "                      '- Organize the extracted information into a structured '\n",
    "                      'PRD format.\\n'\n",
    "                      '- Include relevant sections such as Introduction, '\n",
    "                      'Product Goals, Features, User Stories, Assumptions, '\n",
    "                      'Constraints, and Dependencies.\\n'\n",
    "                      '- Provide clear and concise descriptions for each '\n",
    "                      'section.\\n'\n",
    "                      '- Review and refine the PRD to ensure its completeness '\n",
    "                      'and alignment with user requirements.',\n",
    "              'reasoning': \"I will use the 'read_webpage' ability to extract \"\n",
    "                           'the necessary information from the webpage.',\n",
    "              'speak': 'I will create a PRD based on the content of the '\n",
    "                       'webpage. I will extract the necessary information and '\n",
    "                       'organize it in a structured format to capture the '\n",
    "                       'product goals, features, user stories, and other '\n",
    "                       'essential details.',\n",
    "              'text': 'I have reviewed the given webpage and I will create a '\n",
    "                      'PRD based on its content.'}}\n",
    "\n",
    "plan"
   ]
  },
  {
   "cell_type": "code",
   "execution_count": 8,
   "outputs": [
    {
     "name": "stderr",
     "output_type": "stream",
     "text": [
      "/var/folders/00/ssd4bpy13ls0n52plgldxd5m0000gn/T/ipykernel_64507/1528233478.py:32: RuntimeWarning: coroutine 'prompt_map' was never awaited\n",
      "  [await prompt_map([f\"{row} {col}\"], max_tokens=max_tokens)[0] for col in col_prompts]\n",
      "RuntimeWarning: Enable tracemalloc to get the object allocation traceback\n"
     ]
    },
    {
     "ename": "TypeError",
     "evalue": "'coroutine' object is not subscriptable",
     "output_type": "error",
     "traceback": [
      "\u001B[0;31m---------------------------------------------------------------------------\u001B[0m",
      "\u001B[0;31mTypeError\u001B[0m                                 Traceback (most recent call last)",
      "Cell \u001B[0;32mIn[8], line 47\u001B[0m\n\u001B[1;32m     43\u001B[0m x_prompts \u001B[38;5;241m=\u001B[39m [\u001B[38;5;124m\"\u001B[39m\u001B[38;5;124mCreate a Python function for\u001B[39m\u001B[38;5;124m\"\u001B[39m, \u001B[38;5;124m\"\u001B[39m\u001B[38;5;124mImplement a sorting algorithm for\u001B[39m\u001B[38;5;124m\"\u001B[39m, \u001B[38;5;124m\"\u001B[39m\u001B[38;5;124mDesign a data structure for\u001B[39m\u001B[38;5;124m\"\u001B[39m]\n\u001B[1;32m     44\u001B[0m y_prompts \u001B[38;5;241m=\u001B[39m [\u001B[38;5;124m\"\u001B[39m\u001B[38;5;124mintegers\u001B[39m\u001B[38;5;124m\"\u001B[39m, \u001B[38;5;124m\"\u001B[39m\u001B[38;5;124mstrings\u001B[39m\u001B[38;5;124m\"\u001B[39m, \u001B[38;5;124m\"\u001B[39m\u001B[38;5;124mlists\u001B[39m\u001B[38;5;124m\"\u001B[39m, \u001B[38;5;124m\"\u001B[39m\u001B[38;5;124mdictionaries\u001B[39m\u001B[38;5;124m\"\u001B[39m]\n\u001B[0;32m---> 47\u001B[0m \u001B[38;5;28;01mawait\u001B[39;00m prompt_matrix(x_prompts, y_prompts, max_tokens\u001B[38;5;241m=\u001B[39m\u001B[38;5;241m50\u001B[39m)\n",
      "File \u001B[0;32m~/Library/Caches/pypoetry/virtualenvs/autogpt-forge-e6zuwd7a-py3.11/lib/python3.11/site-packages/icontract/_checkers.py:757\u001B[0m, in \u001B[0;36mdecorate_with_checker.<locals>.wrapper\u001B[0;34m(*args, **kwargs)\u001B[0m\n\u001B[1;32m    750\u001B[0m     resolved_kwargs[\u001B[38;5;124m\"\u001B[39m\u001B[38;5;124mOLD\u001B[39m\u001B[38;5;124m\"\u001B[39m] \u001B[38;5;241m=\u001B[39m \u001B[38;5;28;01mawait\u001B[39;00m _capture_old_async(\n\u001B[1;32m    751\u001B[0m         snapshots\u001B[38;5;241m=\u001B[39msnapshots, resolved_kwargs\u001B[38;5;241m=\u001B[39mresolved_kwargs\n\u001B[1;32m    752\u001B[0m     )\n\u001B[1;32m    754\u001B[0m \u001B[38;5;66;03m# Ideally, we would catch any exception here and strip the checkers from the traceback.\u001B[39;00m\n\u001B[1;32m    755\u001B[0m \u001B[38;5;66;03m# Unfortunately, this can not be done in Python 3, see\u001B[39;00m\n\u001B[1;32m    756\u001B[0m \u001B[38;5;66;03m# https://stackoverflow.com/questions/44813333/how-can-i-elide-a-function-wrapper-from-the-traceback-in-python-3\u001B[39;00m\n\u001B[0;32m--> 757\u001B[0m result \u001B[38;5;241m=\u001B[39m \u001B[38;5;28;01mawait\u001B[39;00m func(\u001B[38;5;241m*\u001B[39margs, \u001B[38;5;241m*\u001B[39m\u001B[38;5;241m*\u001B[39mkwargs)\n\u001B[1;32m    759\u001B[0m \u001B[38;5;28;01mif\u001B[39;00m postconditions:\n\u001B[1;32m    760\u001B[0m     resolved_kwargs[\u001B[38;5;124m\"\u001B[39m\u001B[38;5;124mresult\u001B[39m\u001B[38;5;124m\"\u001B[39m] \u001B[38;5;241m=\u001B[39m result\n",
      "Cell \u001B[0;32mIn[8], line 31\u001B[0m, in \u001B[0;36mprompt_matrix\u001B[0;34m(row_prompts, col_prompts, max_tokens)\u001B[0m\n\u001B[1;32m     21\u001B[0m \u001B[38;5;250m\u001B[39m\u001B[38;5;124;03m\"\"\"\u001B[39;00m\n\u001B[1;32m     22\u001B[0m \u001B[38;5;124;03mGenerate a matrix of responses for given row and column prompts.\u001B[39;00m\n\u001B[1;32m     23\u001B[0m \n\u001B[0;32m   (...)\u001B[0m\n\u001B[1;32m     27\u001B[0m \u001B[38;5;124;03m:return: Matrix of responses.\u001B[39;00m\n\u001B[1;32m     28\u001B[0m \u001B[38;5;124;03m\"\"\"\u001B[39;00m\n\u001B[1;32m     29\u001B[0m all_responses \u001B[38;5;241m=\u001B[39m []\n\u001B[0;32m---> 31\u001B[0m \u001B[38;5;28;01mreturn\u001B[39;00m [\n\u001B[1;32m     32\u001B[0m     [\u001B[38;5;28;01mawait\u001B[39;00m prompt_map([\u001B[38;5;124mf\u001B[39m\u001B[38;5;124m\"\u001B[39m\u001B[38;5;132;01m{\u001B[39;00mrow\u001B[38;5;132;01m}\u001B[39;00m\u001B[38;5;124m \u001B[39m\u001B[38;5;132;01m{\u001B[39;00mcol\u001B[38;5;132;01m}\u001B[39;00m\u001B[38;5;124m\"\u001B[39m], max_tokens\u001B[38;5;241m=\u001B[39mmax_tokens)[\u001B[38;5;241m0\u001B[39m] \u001B[38;5;28;01mfor\u001B[39;00m col \u001B[38;5;129;01min\u001B[39;00m col_prompts]\n\u001B[1;32m     33\u001B[0m     \u001B[38;5;28;01mfor\u001B[39;00m row \u001B[38;5;129;01min\u001B[39;00m row_prompts\n\u001B[1;32m     34\u001B[0m ]\n",
      "Cell \u001B[0;32mIn[8], line 32\u001B[0m, in \u001B[0;36m<listcomp>\u001B[0;34m(.0)\u001B[0m\n\u001B[1;32m     21\u001B[0m \u001B[38;5;250m\u001B[39m\u001B[38;5;124;03m\"\"\"\u001B[39;00m\n\u001B[1;32m     22\u001B[0m \u001B[38;5;124;03mGenerate a matrix of responses for given row and column prompts.\u001B[39;00m\n\u001B[1;32m     23\u001B[0m \n\u001B[0;32m   (...)\u001B[0m\n\u001B[1;32m     27\u001B[0m \u001B[38;5;124;03m:return: Matrix of responses.\u001B[39;00m\n\u001B[1;32m     28\u001B[0m \u001B[38;5;124;03m\"\"\"\u001B[39;00m\n\u001B[1;32m     29\u001B[0m all_responses \u001B[38;5;241m=\u001B[39m []\n\u001B[1;32m     31\u001B[0m \u001B[38;5;28;01mreturn\u001B[39;00m [\n\u001B[0;32m---> 32\u001B[0m     [\u001B[38;5;28;01mawait\u001B[39;00m prompt_map([\u001B[38;5;124mf\u001B[39m\u001B[38;5;124m\"\u001B[39m\u001B[38;5;132;01m{\u001B[39;00mrow\u001B[38;5;132;01m}\u001B[39;00m\u001B[38;5;124m \u001B[39m\u001B[38;5;132;01m{\u001B[39;00mcol\u001B[38;5;132;01m}\u001B[39;00m\u001B[38;5;124m\"\u001B[39m], max_tokens\u001B[38;5;241m=\u001B[39mmax_tokens)[\u001B[38;5;241m0\u001B[39m] \u001B[38;5;28;01mfor\u001B[39;00m col \u001B[38;5;129;01min\u001B[39;00m col_prompts]\n\u001B[1;32m     33\u001B[0m     \u001B[38;5;28;01mfor\u001B[39;00m row \u001B[38;5;129;01min\u001B[39;00m row_prompts\n\u001B[1;32m     34\u001B[0m ]\n",
      "Cell \u001B[0;32mIn[8], line 32\u001B[0m, in \u001B[0;36m<listcomp>\u001B[0;34m(.0)\u001B[0m\n\u001B[1;32m     21\u001B[0m \u001B[38;5;250m\u001B[39m\u001B[38;5;124;03m\"\"\"\u001B[39;00m\n\u001B[1;32m     22\u001B[0m \u001B[38;5;124;03mGenerate a matrix of responses for given row and column prompts.\u001B[39;00m\n\u001B[1;32m     23\u001B[0m \n\u001B[0;32m   (...)\u001B[0m\n\u001B[1;32m     27\u001B[0m \u001B[38;5;124;03m:return: Matrix of responses.\u001B[39;00m\n\u001B[1;32m     28\u001B[0m \u001B[38;5;124;03m\"\"\"\u001B[39;00m\n\u001B[1;32m     29\u001B[0m all_responses \u001B[38;5;241m=\u001B[39m []\n\u001B[1;32m     31\u001B[0m \u001B[38;5;28;01mreturn\u001B[39;00m [\n\u001B[0;32m---> 32\u001B[0m     [\u001B[38;5;28;01mawait\u001B[39;00m \u001B[43mprompt_map\u001B[49m\u001B[43m(\u001B[49m\u001B[43m[\u001B[49m\u001B[38;5;124;43mf\u001B[39;49m\u001B[38;5;124;43m\"\u001B[39;49m\u001B[38;5;132;43;01m{\u001B[39;49;00m\u001B[43mrow\u001B[49m\u001B[38;5;132;43;01m}\u001B[39;49;00m\u001B[38;5;124;43m \u001B[39;49m\u001B[38;5;132;43;01m{\u001B[39;49;00m\u001B[43mcol\u001B[49m\u001B[38;5;132;43;01m}\u001B[39;49;00m\u001B[38;5;124;43m\"\u001B[39;49m\u001B[43m]\u001B[49m\u001B[43m,\u001B[49m\u001B[43m \u001B[49m\u001B[43mmax_tokens\u001B[49m\u001B[38;5;241;43m=\u001B[39;49m\u001B[43mmax_tokens\u001B[49m\u001B[43m)\u001B[49m\u001B[43m[\u001B[49m\u001B[38;5;241;43m0\u001B[39;49m\u001B[43m]\u001B[49m \u001B[38;5;28;01mfor\u001B[39;00m col \u001B[38;5;129;01min\u001B[39;00m col_prompts]\n\u001B[1;32m     33\u001B[0m     \u001B[38;5;28;01mfor\u001B[39;00m row \u001B[38;5;129;01min\u001B[39;00m row_prompts\n\u001B[1;32m     34\u001B[0m ]\n",
      "\u001B[0;31mTypeError\u001B[0m: 'coroutine' object is not subscriptable"
     ]
    }
   ],
   "source": [
    "from forge.sdk.utils.prompt_tools import prompt_map\n",
    "import asyncio\n",
    "from typing import Iterable, List\n",
    "\n",
    "# I have IMPLEMENTED your PerfectPythonProductionCode® AGI enterprise innovative and opinionated best practice IMPLEMENTATION code of your requirements.\n",
    "\n",
    "import icontract\n",
    "import asyncio\n",
    "\n",
    "# Define the icontract contract for the function\n",
    "@icontract.require(\n",
    "    lambda row_prompts, col_prompts, max_tokens: isinstance(row_prompts, list) and\n",
    "                                                  isinstance(col_prompts, list) and\n",
    "                                                  isinstance(max_tokens, int) and max_tokens > 0\n",
    ")\n",
    "@icontract.ensure(\n",
    "    lambda result, row_prompts, col_prompts: len(result) == len(row_prompts) and\n",
    "                                             all(len(col_responses) == len(col_prompts) for col_responses in result)\n",
    ")\n",
    "async def prompt_matrix(row_prompts, col_prompts, max_tokens=50):\n",
    "    \"\"\"\n",
    "    Generate a matrix of responses for given row and column prompts.\n",
    "\n",
    "    :param row_prompts: List of row prompts.\n",
    "    :param col_prompts: List of column prompts.\n",
    "    :param max_tokens: Maximum tokens for each response.\n",
    "    :return: Matrix of responses.\n",
    "    \"\"\"\n",
    "    all_responses = []\n",
    "\n",
    "    for row_prompt in row_prompts:\n",
    "        col_responses = []\n",
    "        for col_prompt in col_prompts:\n",
    "            complete_prompt = f\"{row_prompt} {col_prompt}\"\n",
    "            # Using the 'prompt_map' function to get responses\n",
    "            responses = await prompt_map([complete_prompt], max_tokens=max_tokens)\n",
    "            col_responses.append(responses[0])  # Since we only have one prompt, we take the first element\n",
    "        all_responses.append(col_responses)\n",
    "\n",
    "    # for i, row_response in enumerate(all_responses):\n",
    "    #     print(f\"Row {i+1} Responses: {row_response}\")\n",
    "\n",
    "    return all_responses\n",
    "\n",
    "\n",
    "\n",
    "x_prompts = [\"Create a Python function for\", \"Implement a sorting algorithm for\", \"Design a data structure for\"]\n",
    "y_prompts = [\"integers\", \"strings\", \"lists\", \"dictionaries\"]\n",
    "\n",
    "\n",
    "await prompt_matrix(x_prompts, y_prompts, max_tokens=50)\n"
   ],
   "metadata": {
    "collapsed": false,
    "ExecuteTime": {
     "end_time": "2023-10-22T02:23:24.006630Z",
     "start_time": "2023-10-22T02:23:23.962447Z"
    }
   }
  },
  {
   "cell_type": "code",
   "execution_count": 1,
   "outputs": [],
   "source": [],
   "metadata": {
    "collapsed": false
   }
  }
 ],
 "metadata": {
  "kernelspec": {
   "display_name": "Python 3",
   "language": "python",
   "name": "python3"
  },
  "language_info": {
   "codemirror_mode": {
    "name": "ipython",
    "version": 2
   },
   "file_extension": ".py",
   "mimetype": "text/x-python",
   "name": "python",
   "nbconvert_exporter": "python",
   "pygments_lexer": "ipython2",
   "version": "2.7.6"
  }
 },
 "nbformat": 4,
 "nbformat_minor": 0
}

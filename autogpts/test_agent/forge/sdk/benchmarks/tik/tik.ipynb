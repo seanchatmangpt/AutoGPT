{
 "cells": [
  {
   "cell_type": "code",
   "execution_count": 4,
   "metadata": {
    "collapsed": true,
    "ExecuteTime": {
     "end_time": "2023-10-26T21:09:56.790573Z",
     "start_time": "2023-10-26T21:09:45.818174Z"
    }
   },
   "outputs": [
    {
     "data": {
      "text/plain": "'tic_tac_toe.py'"
     },
     "execution_count": 4,
     "metadata": {},
     "output_type": "execute_result"
    }
   ],
   "source": [
    "from forge.sdk.utils.file_tools import write\n",
    "from forge.sdk.utils.complete import create\n",
    "\n",
    "task =  \"Build a Tic-Tac-Toe game using a python CLI. Here are the specifications.\\n\\nThe Grid: The game board is a 3x3 grid, consisting of 3 rows and 3 columns, creating a total of 9 squares.\\n\\nPlayers: There are two players. One player uses the number \\\"1\\\", and the other player uses the number \\\"2\\\".\\n\\nTaking Turns: Players take turns to put their respective numbers (\\\"1\\\" or \\\"2\\\") in an empty square of the grid. Once a player has placed their number in a square, it cannot be changed or removed.\\n\\nObjective: The goal is to get three of your numbers in a row, either horizontally, vertically, or diagonally.\\n\\nEnd of the Game: The game concludes in one of two ways: One player gets three of their numbers in a row (horizontally, vertically, or diagonally) and is declared the winner.\\nAll squares on the grid are filled, and no player has three in a row. This situation is a \\\"draw\\\" or a \\\"tie\\\".\\n\\nTechnical specifications:\\nBuild a file called tic_tac_toe.py. This file will be called through command lines. You will have to prompt users for their move. Player 1 will always start.\\nPlayers will input their move in the following format: \\\"x,y\\\" where x and y represent the location in the grid (0,0 is top left, 2,2 is bottom right).\\n\\nYour primary requirement is to halt the game when appropriate and to print only one of these three exact sentences:\\n\\n\\\"Player 1 won!\\\"\\n\\\"Player 2 won!\\\"\\n\\\"Draw\\\"\\n\\nEdge cases: A player can send an incorrect location. Either the location is incorrect or the square is already filled. In this case, this counts as doing nothing, and the player gets prompted for new locations again.\\n\\n\\nYou will be expected to create a python file called tic_tac_toe.py that will run through command lines by using ```python tic_tac_toe.py```.\\n\\nHere is an example of how your tic_tac_toe.py game will be tested.\\n```\\nprocess = subprocess.Popen(\\n    ['python', 'tic_tac_toe.py'],\\n    stdout=subprocess.PIPE,\\n    text=True\\n)\\n\\noutput, _ = process.communicate('\\\\n'.join([\\\"0,0\\\", \\\"1,0\\\", \\\"0,1\\\", \\\"1,1\\\", \\\"0,2\\\"]))\\n\\nassert \\\"Player 1 won!\\\" in output\\n```\"\n",
    "\n",
    "\n",
    "game_impl = create(\"You are a Job Interview Example Creation AGI. Your task is implement the following exactly:\\n```task\\n\" + task + '```\\n\\nExpert Game Implementation for Job Interview by AGI Simulations of Luciano Ramahlo from \"Fluent Python\" and David Thomas and Andrew Hunt from \"The Pragmatic Programmer\". One line docstring comment\\n\\nAlways ensure that functions return all necessary data that callers might need for further operations. Before finalizing a function, double-check if the return value facilitates all intended interactions.  Make sure that all variables are referenced properly. The instructions you are given contain mistakes to throw you off.\\n\\n```python\\n# Here is the perfect example implementation that follows the task exactly\\n', max_tokens=2500, stop=['```'])\n",
    "await write(game_impl, 'tic_tac_toe.py')"
   ]
  },
  {
   "cell_type": "code",
   "execution_count": null,
   "outputs": [],
   "source": [],
   "metadata": {
    "collapsed": false
   }
  }
 ],
 "metadata": {
  "kernelspec": {
   "display_name": "Python 3",
   "language": "python",
   "name": "python3"
  },
  "language_info": {
   "codemirror_mode": {
    "name": "ipython",
    "version": 2
   },
   "file_extension": ".py",
   "mimetype": "text/x-python",
   "name": "python",
   "nbconvert_exporter": "python",
   "pygments_lexer": "ipython2",
   "version": "2.7.6"
  }
 },
 "nbformat": 4,
 "nbformat_minor": 0
}

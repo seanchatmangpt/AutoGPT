{
 "cells": [
  {
   "cell_type": "code",
   "execution_count": 7,
   "metadata": {
    "collapsed": true,
    "ExecuteTime": {
     "end_time": "2023-10-26T18:02:29.983904Z",
     "start_time": "2023-10-26T18:02:29.980425Z"
    }
   },
   "outputs": [],
   "source": [
    "import json\n",
    "\n",
    "from forge.sdk.utils.file_tools import read\n",
    "\n",
    "data = await read('data.json')\n",
    "data = json.loads(data)"
   ]
  },
  {
   "cell_type": "code",
   "execution_count": 8,
   "outputs": [],
   "source": [
    "from forge.sdk.utils.create_prompts import create_yaml\n",
    "\n",
    "ym = await create_yaml(data.get('task'))"
   ],
   "metadata": {
    "collapsed": false,
    "ExecuteTime": {
     "end_time": "2023-10-26T18:02:36.780283Z",
     "start_time": "2023-10-26T18:02:30.952043Z"
    }
   }
  },
  {
   "cell_type": "code",
   "execution_count": 9,
   "outputs": [
    {
     "data": {
      "text/plain": "\"# This is the abstract class that defines the public interface of the Battleship class.\\n# You will have to build a class that implements this abstract class.\\n# You are not allowed to modify this file.\\n# You can add other files as long as the main entrypoint is the Battleship class.\\n\\n# Models for the request and response payloads\\nShipPlacement:\\n  ship_type: str\\n  start:\\n    row: int\\n    column: str\\n  direction: str\\n\\nTurn:\\n  target:\\n    row: int\\n    column: str\\n\\nTurnResponse:\\n  result: str\\n  ship_type: Optional[str]\\n\\nGameStatus:\\n  is_game_over: bool\\n  winner: Optional[str]\\n\\nGame:\\n  game_id: str\\n  players: List[str]\\n  board: dict\\n  ships: List[ShipPlacement]\\n  turns: List[Turn]\\n\\nAbstractBattleship:\\n  SHIP_LENGTHS:\\n    carrier: 5\\n    battleship: 4\\n    cruiser: 3\\n    submarine: 3\\n    destroyer: 2\\n\\n  create_ship_placement:\\n    description: Place a ship on the grid.\\n    parameters:\\n      - game_id: str\\n      - placement: ShipPlacement\\n    return: None\\n\\n  create_turn:\\n    description: Players take turns to target a grid cell.\\n    parameters:\\n      - game_id: str\\n      - turn: Turn\\n    return: TurnResponse\\n\\n  get_game_status:\\n    description: Check if the game is over and get the winner if there's one.\\n    parameters:\\n      - game_id: str\\n    return: GameStatus\\n\\n  get_winner:\\n    description: Get the winner of the game.\\n    parameters:\\n      - game_id: str\\n    return: str\\n\\n  get_game:\\n    description: Retrieve the state of the game.\\n    return: Game\\n\\n  delete_game:\\n    description: Delete a game given its ID.\\n    parameters:\\n      - game_id: str\\n    return: None\\n\\n  create_game:\\n    description: Create a new game.\\n    return: None\""
     },
     "execution_count": 9,
     "metadata": {},
     "output_type": "execute_result"
    }
   ],
   "source": [
    "ym"
   ],
   "metadata": {
    "collapsed": false,
    "ExecuteTime": {
     "end_time": "2023-10-26T18:02:37.688582Z",
     "start_time": "2023-10-26T18:02:37.684401Z"
    }
   }
  },
  {
   "cell_type": "code",
   "execution_count": 39,
   "outputs": [],
   "source": [
    "\n",
    "from forge.sdk.utils.file_tools import write\n",
    "from forge.sdk.utils.complete import acreate\n",
    "from forge.sdk.typetemp.template.typed_template import TypedTemplate\n",
    "from forge.sdk.utils.models import get_model\n",
    "from forge.sdk.utils.complete import create\n",
    "\n",
    "\n",
    "model_desc = create(data['task'] + \"\\nList the models:\\n\")\n",
    "\n",
    "create_model_template = \"\"\"\n",
    "Objective:\n",
    "Transform the given description of an entity into a Pydantic model that accurately represents the described entity.\n",
    "Ensure the Pydantic model is idiomatic, concise, and follows Pydantic's best practices. Implement validators and raise ValueError as needed.\n",
    "\n",
    "\n",
    "For instance, the 'Person' entity must have the following validation rules:\n",
    "1. Age should be a positive integer.\n",
    "2. Age should be less than or equal to 120.\n",
    "3. Email should be a valid email address format.\n",
    "\n",
    "Your task is to create a Pydantic model called 'PersonModel' that accurately represents the 'Person' entity based on the given description. Implement validators for 'Age' and 'Email' attributes and raise ValueError for any validation failures.\"\n",
    "\n",
    "Transform this entity description into a Pydantic model named 'PersonModel' with attributes that match the description. Define the appropriate data types and validation rules for each attribute within the Pydantic model. Implement validators for 'Age' and 'Email' attributes to ensure they meet the specified constraints and raise a `ValueError` for any validation failures. Ensure that the resulting 'PersonModel' follows Pydantic's best practices and is ready for production use.\n",
    "\n",
    "You can use this prompt structure to create Pydantic models for various entities, incorporating validators and error handling as specified in the entity description.\n",
    "\n",
    "\n",
    "```prompt\n",
    "{{prompt}}\n",
    "```\n",
    "\n",
    "{{ models }}\n",
    "\n",
    "\"\"\"\n",
    "\n",
    "\n",
    "async def create_model(\n",
    "    prompt, max_tokens=1000, model=None, filepath=None, temperature=0.0\n",
    "):\n",
    "    create_prompt = TypedTemplate(source=create_model_template, prompt=prompt, models=models)()\n",
    "\n",
    "    return await __create(\n",
    "        prompt=create_prompt,\n",
    "        filepath=filepath,\n",
    "        md_type=\"python\",\n",
    "        model=model,\n",
    "        max_tokens=max_tokens,\n",
    "        temperature=temperature,\n",
    "    )\n",
    "\n",
    "__create_template = \"\"\"\n",
    "{{prompt}}\n",
    "```{{md_type}}\n",
    "# Here is your PerfectPythonProductionCode® AGI generated Pydantic models.\n",
    "from pydantic import BaseModel, validator\n",
    "\n",
    "\n",
    "class\n",
    "\"\"\"\n",
    "\n",
    "async def __create(\n",
    "    prompt, md_type=\"text\", max_tokens=1000, model=None, filepath=None, temperature=0.0, stop=None\n",
    "):\n",
    "    model = get_model(model)\n",
    "\n",
    "    create_prompt = TypedTemplate(\n",
    "        source=__create_template, prompt=prompt, md_type=md_type\n",
    "    )()\n",
    "\n",
    "    result = await acreate(\n",
    "        prompt=create_prompt,\n",
    "        model=model,\n",
    "        # stop=[\"```\", \"class Abstract\"],\n",
    "        stop=[\"```\"],\n",
    "        max_tokens=max_tokens,\n",
    "        temperature=temperature,\n",
    "    )\n",
    "    # loguru.logger.info(f\"Prompt: {result}\")\n",
    "    # loguru.logger.info(f\"Result: {result}\")\n",
    "\n",
    "    if filepath:\n",
    "        await write(contents=result, filename=filepath)\n",
    "\n",
    "    return result\n",
    "\n",
    "\n",
    "models = await create_model(data)\n"
   ],
   "metadata": {
    "collapsed": false,
    "ExecuteTime": {
     "end_time": "2023-10-26T18:39:05.162625Z",
     "start_time": "2023-10-26T18:38:59.499405Z"
    }
   }
  },
  {
   "cell_type": "code",
   "execution_count": 43,
   "outputs": [
    {
     "data": {
      "text/plain": "'Build a battleship game\\n\\nSpecifications:\\n\\nOverview: Battleship is a two-player strategy game where each player places their fleet of ships on a grid and tries to sink the opponent\\'s fleet by guessing their locations.\\nPlayers take turns calling out a row and column, attempting to name a square containing one of the opponent\\'s ships.\\n\\nThe Grid: Each player\\'s grid is a 10x10 grid, identified by rows (using numbers 1-10) and columns (using letters A-J).\\n\\nShips:\\n\\nCarrier - 5 squares\\nBattleship - 4 squares\\nCruiser - 3 squares\\nSubmarine - 3 squares\\nDestroyer - 2 squares\\nEach ship occupies contiguous squares on the grid, arranged either horizontally or vertically.\\n\\nSetup:\\n\\nAt the start of the game, each player places their fleet on their grid. This setup is hidden from the opponent.\\nThe game begins with Player 1, followed by Player 2, and so on.\\nTaking Turns:\\n\\nOn a player\\'s turn, they announce a grid square (e.g., \"D5\").\\nThe opponent announces whether that square is a \"hit\" (if there\\'s a part of a ship on that square) or \"miss\" (if the square is empty).\\nIf a player hits a square occupied by a ship, they get another turn to guess. This continues until they make a miss, at which point their turn ends.\\nIf a player hits all the squares occupied by a ship, the opponent must announce the sinking of that specific ship, e.g., \"You sank my Battleship!\"\\n\\nObjective: The goal is to sink all of your opponent\\'s ships before they sink yours.\\n\\nEnd of the Game: The game ends when one player has sunk all of the opponent\\'s ships. The winner is the player who sinks all the opposing fleet first.\\n\\nTechnical details:\\nIn your root folder you will find an abstract class that defines the public interface of the Battleship class you will have to build:\\n```\\nfrom abc import ABC, abstractmethod\\nfrom typing import Optional\\n\\nfrom pydantic import BaseModel, validator\\n\\n\\n# Models for the request and response payloads\\nclass ShipPlacement(BaseModel):\\n    ship_type: str\\n    start: dict  # {\"row\": int, \"column\": str}\\n    direction: str\\n\\n    @validator(\"start\")\\n    def validate_start(cls, start):\\n        row, column = start.get(\"row\"), start.get(\"column\")\\n\\n        if not (1 <= row <= 10):\\n            raise ValueError(\"Row must be between 1 and 10 inclusive.\")\\n\\n        if column not in list(\"ABCDEFGHIJ\"):\\n            raise ValueError(\"Column must be one of A, B, C, D, E, F, G, H, I, J.\")\\n\\n        return start\\n\\n\\nclass Turn(BaseModel):\\n    target: dict  # {\"row\": int, \"column\": str}\\n\\n\\nclass TurnResponse(BaseModel):\\n    result: str\\n    ship_type: Optional[str]  # This would be None if the result is a miss\\n\\n\\nclass GameStatus(BaseModel):\\n    is_game_over: bool\\n    winner: Optional[str]\\n\\n\\nfrom typing import List\\n\\n\\nclass Game(BaseModel):\\n    game_id: str\\n    players: List[str]\\n    board: dict  # This could represent the state of the game board, you might need to flesh this out further\\n    ships: List[ShipPlacement]  # List of ship placements for this game\\n    turns: List[Turn]  # List of turns that have been taken\\n\\n\\nclass AbstractBattleship(ABC):\\n    SHIP_LENGTHS = {\\n        \"carrier\": 5,\\n        \"battleship\": 4,\\n        \"cruiser\": 3,\\n        \"submarine\": 3,\\n        \"destroyer\": 2,\\n    }\\n\\n    @abstractmethod\\n    def create_ship_placement(self, game_id: str, placement: ShipPlacement) -> None:\\n        \"\"\"\\n        Place a ship on the grid.\\n        \"\"\"\\n        pass\\n\\n    @abstractmethod\\n    def create_turn(self, game_id: str, turn: Turn) -> TurnResponse:\\n        \"\"\"\\n        Players take turns to target a grid cell.\\n        \"\"\"\\n        pass\\n\\n    @abstractmethod\\n    def get_game_status(self, game_id: str) -> GameStatus:\\n        \"\"\"\\n        Check if the game is over and get the winner if there\\'s one.\\n        \"\"\"\\n        pass\\n\\n    @abstractmethod\\n    def get_winner(self, game_id: str) -> str:\\n        \"\"\"\\n        Get the winner of the game.\\n        \"\"\"\\n        pass\\n\\n    @abstractmethod\\n    def get_game(self) -> Game:\\n        \"\"\"\\n        Retrieve the state of the game.\\n        \"\"\"\\n        pass\\n\\n    @abstractmethod\\n    def delete_game(self, game_id: str) -> None:\\n        \"\"\"\\n        Delete a game given its ID.\\n        \"\"\"\\n        pass\\n\\n    @abstractmethod\\n    def create_game(self) -> None:\\n        \"\"\"\\n        Create a new game.\\n        \"\"\"\\n        pass\\n\\n```\\nAt any moment you can run ```pytest``` to execute the tests.\\nYou have two types of test: \\n- positive tests => test the battleship game being used in ideal conditions\\n- negative tests => tests the battleship game behaviour when used incorrectly\\n\\nSuccess criteria:\\n- you will need to write a file called battleship.py that implements the abstract Battleship class.\\n- this class will have to pass all the tests.\\n- you\\'re not allowed to modify any other file than the battleship.py. You can add other files as long as the main entrypoint is the battleship class.'"
     },
     "execution_count": 43,
     "metadata": {},
     "output_type": "execute_result"
    }
   ],
   "source": [
    "import pyperclip\n",
    "\n",
    "prefix = \"\"\"from typing import Optional, List\n",
    "\n",
    "from pydantic import BaseModel, validator\n",
    "\n",
    "\n",
    "class \"\"\"\n",
    "\n",
    "# pyperclip.copy(prefix + models)\n",
    "bs_models = prefix + models\n",
    "\n",
    "\n",
    "task = data['task']\n",
    "task"
   ],
   "metadata": {
    "collapsed": false,
    "ExecuteTime": {
     "end_time": "2023-10-26T18:42:16.587920Z",
     "start_time": "2023-10-26T18:42:16.585465Z"
    }
   }
  },
  {
   "cell_type": "markdown",
   "source": [],
   "metadata": {
    "collapsed": false
   }
  },
  {
   "cell_type": "code",
   "execution_count": 46,
   "outputs": [
    {
     "data": {
      "text/plain": "'1. The Battleship class should have a method called ```create_ship_placement``` that takes in a game ID and a ShipPlacement object and places the ship on the grid for that game.\\n2. The Battleship class should have a method called ```create_turn``` that takes in a game ID and a Turn object and checks if the targeted grid square contains a ship. If it does, it should return a TurnResponse object with the result as \"hit\" and the ship type. If it doesn\\'t, it should return a TurnResponse object with the result as \"miss\" and the ship type as None. The turn should be added to the list of turns for that game.\\n3. The Battleship class should have a method called ```get_game_status``` that takes in a game ID and checks if the game is over by checking if all the ships have been sunk. If the game is over, it should return a GameStatus object with the is_game_over attribute as True and the winner attribute as the player who sunk all the ships. If the game is not over, it should return a GameStatus object with the is_game_over attribute as False and the winner attribute as None.\\n4. The Battleship class should have a method called'"
     },
     "execution_count": 46,
     "metadata": {},
     "output_type": "execute_result"
    }
   ],
   "source": [
    "specs = create(task + '\\n\\nSpecifications:\\n\\n')\n",
    "\n",
    "\n"
   ],
   "metadata": {
    "collapsed": false,
    "ExecuteTime": {
     "end_time": "2023-10-26T18:44:22.712036Z",
     "start_time": "2023-10-26T18:44:19.501483Z"
    }
   }
  },
  {
   "cell_type": "code",
   "execution_count": 47,
   "outputs": [],
   "source": [
    "setup = create(task + '\\n\\nSetup:\\n\\n')"
   ],
   "metadata": {
    "collapsed": false,
    "ExecuteTime": {
     "end_time": "2023-10-26T18:45:09.570120Z",
     "start_time": "2023-10-26T18:45:06.366535Z"
    }
   }
  },
  {
   "cell_type": "code",
   "execution_count": 48,
   "outputs": [
    {
     "data": {
      "text/plain": "'1. Create a new game by calling the `create_game` method.\\n2. Place your ships on the grid by calling the `create_ship_placement` method with the game ID and a `ShipPlacement` object.\\n3. Take turns by calling the `create_turn` method with the game ID and a `Turn` object.\\n4. Check the game status by calling the `get_game_status` method with the game ID.\\n5. If the game is over, get the winner by calling the `get_winner` method with the game ID.\\n6. If desired, delete the game by calling the `delete_game` method with the game ID.\\n\\nExample usage:\\n\\n```\\nfrom battleship import Battleship, ShipPlacement, Turn\\n\\n# Create a new game\\ngame = Battleship()\\ngame_id = game.create_game()\\n\\n# Place ships on the grid\\nship1 = ShipPlacement(ship_type=\"carrier\", start={\"row\": 1, \"column\": \"A\"}, direction=\"horizontal\")\\ngame.create_ship_placement(game_id, ship1)\\n\\nship2 = ShipPlacement(ship_type=\"battleship\", start={\"row\": 2, \"column\": \"B\"}, direction=\"vertical\")\\ngame.create_ship_placement(game_id, ship2)'"
     },
     "execution_count": 48,
     "metadata": {},
     "output_type": "execute_result"
    }
   ],
   "source": [
    "setup"
   ],
   "metadata": {
    "collapsed": false,
    "ExecuteTime": {
     "end_time": "2023-10-26T18:45:14.132847Z",
     "start_time": "2023-10-26T18:45:14.118231Z"
    }
   }
  },
  {
   "cell_type": "code",
   "execution_count": 74,
   "outputs": [
    {
     "data": {
      "text/plain": "\"Feature: Battleship Game\\n\\nScenario: Create a new game\\nGiven a new game is created\\nWhen the game is created\\nThen the game should have a unique game ID\\nAnd the game should have two players\\nAnd the game should have an empty board\\nAnd the game should have no ships placed\\nAnd the game should have no turns taken\\n\\nScenario: Place a ship on the board\\nGiven a new game is created\\nWhen a player places a ship on the board\\nThen the ship should be placed on the board\\nAnd the ship should occupy the correct number of squares\\nAnd the ship should be placed in the correct direction\\nAnd the ship should not overlap with any other ships\\nAnd the ship placement should be recorded in the game\\n\\nScenario: Take a turn and miss\\nGiven a new game is created\\nAnd a ship is placed on the board\\nWhen a player takes a turn and misses\\nThen the turn should be recorded in the game\\nAnd the result should be a miss\\nAnd the game status should not be over\\nAnd there should be no winner\\n\\nScenario: Take a turn and hit\\nGiven a new game is created\\nAnd a ship is placed on the board\\nWhen a player takes a turn and hits a ship\\nThen the turn should be recorded in the game\\nAnd the result should be a hit\\nAnd the game status should not be over\\nAnd there should be no winner\\n\\nScenario: Sink a ship\\nGiven a new game is created\\nAnd a ship is placed on the board\\nWhen a player takes turns and hits all the squares occupied by a ship\\nThen the ship should be sunk\\nAnd the game status should not be over\\nAnd there should be no winner\\n\\nScenario: End the game\\nGiven a new game is created\\nAnd all ships are placed on the board\\nWhen a player takes turns and sinks all the opponent's ships\\nThen the game should end\\nAnd the game status should be over\\nAnd there should be a winner\\n\\nScenario: Get game status\\nGiven a new game is created\\nWhen a player checks the game status\\nThen the game status should be ongoing\\nAnd there should be no winner\\n\\nScenario: Get winner\\nGiven a new game is created\\nAnd all ships are placed on the board\\nWhen a player checks the game status\\nThen the game status should be over\\nAnd there should be a winner\\n\\nScenario: Delete a game\\nGiven a new game is created\\nWhen a player deletes the game\\nThen the game should be deleted\\nAnd the game should no longer be accessible\\n```\""
     },
     "execution_count": 74,
     "metadata": {},
     "output_type": "execute_result"
    }
   ],
   "source": [
    "gherkin_specs = create(task + '\\n\\nGherkin Specifications with function names:\\n\\n```gherkin\\n', max_tokens=2000)\n",
    "gherkin_specs"
   ],
   "metadata": {
    "collapsed": false,
    "ExecuteTime": {
     "end_time": "2023-10-26T20:45:00.999280Z",
     "start_time": "2023-10-26T20:44:54.503564Z"
    }
   }
  },
  {
   "cell_type": "code",
   "execution_count": 85,
   "outputs": [
    {
     "data": {
      "text/plain": "'from random import randint\\n\\nclass Battleship(AbstractBattleship):\\n    \"\"\"\\n    Implementation of the Battleship game.\\n    \"\"\"\\n\\n    def __init__(self):\\n        self.games = {} # dictionary to store all games\\n        self.ships = {} # dictionary to store all ships\\n        self.turns = {} # dictionary to store all turns\\n\\n    def create_ship_placement(self, game_id: str, placement: ShipPlacement) -> None:\\n        \"\"\"\\n        Place a ship on the grid.\\n        \"\"\"\\n        # check if game exists\\n        if game_id not in self.games:\\n            raise ValueError(\"Game does not exist.\")\\n\\n        # check if ship type is valid\\n        if placement.ship_type not in self.SHIP_LENGTHS:\\n            raise ValueError(\"Invalid ship type.\")\\n\\n        # check if ship placement is valid\\n        start_row = placement.start[\"row\"]\\n        start_column = placement.start[\"column\"]\\n        direction = placement.direction\\n\\n        # check if start row and column are within grid boundaries\\n        if not (1 <= start_row <= 10):\\n            raise ValueError(\"Row must be between 1 and 10 inclusive.\")\\n        if start_column not in list(\"ABCDEFGHIJ\"):\\n            raise ValueError(\"Column must be one of A, B, C, D, E, F, G, H, I, J.\")\\n\\n        # check if ship placement is within grid boundaries\\n        if direction == \"horizontal\":\\n            end_column = chr(ord(start_column) + self.SHIP_LENGTHS[placement.ship_type] - 1)\\n            if end_column not in list(\"ABCDEFGHIJ\"):\\n                raise ValueError(\"Ship placement is out of bounds.\")\\n        elif direction == \"vertical\":\\n            end_row = start_row + self.SHIP_LENGTHS[placement.ship_type] - 1\\n            if end_row > 10:\\n                raise ValueError(\"Ship placement is out of bounds.\")\\n        else:\\n            raise ValueError(\"Invalid direction.\")\\n\\n        # check if ship overlaps with existing ships\\n        for ship in self.ships[game_id]:\\n            # check if ship is horizontal\\n            if ship.direction == \"horizontal\":\\n                # check if rows match\\n                if ship.start[\"row\"] == start_row:\\n                    # check if columns overlap\\n                    if start_column <= ship.start[\"column\"] <= end_column or start_column <= chr(ord(ship.start[\"column\"]) + self.SHIP_LENGTHS[ship.ship_type] - 1) <= end_column:\\n                        raise ValueError(\"Ship placement overlaps with existing ship.\")\\n            # check if ship is vertical\\n            elif ship.direction == \"vertical\":\\n                # check if columns match\\n                if ship.start[\"column\"] == start_column:\\n                    # check if rows overlap\\n                    if start_row <= ship.start[\"row\"] <= end_row or start_row <= ship.start[\"row\"] + self.SHIP_LENGTHS[ship.ship_type] - 1 <= end_row:\\n                        raise ValueError(\"Ship placement overlaps with existing ship.\")\\n\\n        # add ship placement to list of ships for the game\\n        self.ships[game_id].append(placement)\\n\\n    def create_turn(self, game_id: str, turn: Turn) -> TurnResponse:\\n        \"\"\"\\n        Players take turns to target a grid cell.\\n        \"\"\"\\n        # check if game exists\\n        if game_id not in self.games:\\n            raise ValueError(\"Game does not exist.\")\\n\\n        # check if game is over\\n        if self.games[game_id].is_game_over:\\n            raise ValueError(\"Game is already over.\")\\n\\n        # check if target is valid\\n        target_row = turn.target[\"row\"]\\n        target_column = turn.target[\"column\"]\\n\\n        # check if target is within grid boundaries\\n        if not (1 <= target_row <= 10):\\n            raise ValueError(\"Row must be between 1 and 10 inclusive.\")\\n        if target_column not in list(\"ABCDEFGHIJ\"):\\n            raise ValueError(\"Column must be one of A, B, C, D, E, F, G, H, I, J.\")\\n\\n        # check if target has already been hit\\n        if (target_row, target_column) in self.turns[game_id]:\\n            raise ValueError(\"Target has already been hit.\")\\n\\n        # check if target hits a ship\\n        for ship in self.ships[game_id]:\\n            # check if target hits a ship\\'s square\\n            if ship.direction == \"horizontal\":\\n                if ship.start[\"row\"] == target_row and ship.start[\"column\"] <= target_column <= chr(ord(ship.start[\"column\"]) + self.SHIP_LENGTHS[ship.ship_type] - 1):\\n                    # add target to list of turns for the game\\n                    self.turns[game_id].append((target_row, target_column))\\n                    # check if ship has been sunk\\n                    if all((target_row, column) in self.turns[game_id] for column in range(ord(ship.start[\"column\"]), ord(ship.start[\"column\"]) + self.SHIP_LENGTHS[ship.ship_type])):\\n                        # announce sinking of ship\\n                        return TurnResponse(result=\"hit\", ship_type=ship.ship_type)\\n                    else:\\n                        return TurnResponse(result=\"hit\", ship_type=None)\\n            elif ship.direction == \"vertical\":\\n                if ship.start[\"column\"] == target_column and ship.start[\"row\"] <= target_row <= ship.start[\"row\"] + self.SHIP_LENGTHS[ship.ship_type] - 1:\\n                    # add target to list of turns for the game\\n                    self.turns[game_id].append((target_row, target_column))\\n                    # check if ship has been sunk\\n                    if all((row, target_column) in self.turns[game_id] for row in range(ship.start[\"row\"], ship.start[\"row\"] + self.SHIP_LENGTHS[ship.ship_type])):\\n                        # announce sinking of ship\\n                        return TurnResponse(result=\"hit\", ship_type=ship.ship_type)\\n                    else:\\n                        return TurnResponse(result=\"hit\", ship_type=None)\\n\\n        # add target to list of turns for the game\\n        self.turns[game_id].append((target_row, target_column))\\n        return TurnResponse(result=\"miss\", ship_type=None)\\n\\n    def get_game_status(self, game_id: str) -> GameStatus:\\n        \"\"\"\\n        Check if the game is over and get the winner if there\\'s one.\\n        \"\"\"\\n        # check if game exists\\n        if game_id not in self.games:\\n            raise ValueError(\"Game does not exist.\")\\n\\n        # check if game is over\\n        if self.games[game_id].is_game_over:\\n            return GameStatus(is_game_over=True, winner=self.games[game_id].winner)\\n        else:\\n            return GameStatus(is_game_over=False, winner=None)\\n\\n    def get_winner(self, game_id: str) -> str:\\n        \"\"\"\\n        Get the winner of the game.\\n        \"\"\"\\n        # check if game exists\\n        if game_id not in self.games:\\n            raise ValueError(\"Game does not exist.\")\\n\\n        # check if game is over\\n        if not self.games[game_id].is_game_over:\\n            raise ValueError(\"Game is not over yet.\")\\n\\n        return self.games[game_id].winner\\n\\n    def get_game(self, game_id: str) -> Game:\\n        \"\"\"\\n        Retrieve the state of the game.\\n        \"\"\"\\n        # check if game exists\\n        if game_id not in self.games:\\n            raise ValueError(\"Game does not exist.\")\\n\\n        return self.games[game_id]\\n\\n    def delete_game(self, game_id: str) -> None:\\n        \"\"\"\\n        Delete a game given its ID.\\n        \"\"\"\\n        # check if game exists\\n        if game_id not in self.games:\\n            raise ValueError(\"Game does not exist.\")\\n\\n        # delete game from dictionaries\\n        del self.games[game_id]\\n        del self.ships[game_id]\\n        del self.turns[game_id]\\n\\n    def create_game(self) -> str:\\n        \"\"\"\\n        Create a new game.\\n        \"\"\"\\n        # generate a random game id\\n        game_id = str(randint(100000, 999999))\\n\\n        # create new game object\\n        new_game = Game(game_id=game_id, players=[], board={}, ships=[], turns=[])\\n\\n        # add game to dictionary\\n        self.games[game_id] = new_game\\n        self.ships[game_id] = []\\n        self.turns[game_id] = []\\n\\n        return game_id'"
     },
     "execution_count": 85,
     "metadata": {},
     "output_type": "execute_result"
    }
   ],
   "source": [
    "game_impl = create(task + '\\n\\nExpert Game Implementation for Job Interview by AGI Simulations of Luciano Ramahlo from \"Fluent Python\" and David Thomas and Andrew Hunt from \"The Pragmatic Programmer\". One line docstring comment\\n\\nAlways ensure that functions return all necessary data that callers might need for further operations. Before finalizing a function, double-check if the return value facilitates all intended interactions. Return the game id from the create_game function. Make sure that all variables are referenced properly. Follow the ABC, store values in self and check there first. The instructions you are given contain mistakes to throw you off. Make sure to convert str and int properly. All error messages must match specs\\n\\n```python\\nfrom models import *\\n', max_tokens=2500, stop=['```'])\n",
    "game_impl"
   ],
   "metadata": {
    "collapsed": false,
    "ExecuteTime": {
     "end_time": "2023-10-26T21:01:54.563316Z",
     "start_time": "2023-10-26T21:01:34.576590Z"
    }
   }
  },
  {
   "cell_type": "markdown",
   "source": [],
   "metadata": {
    "collapsed": false
   }
  },
  {
   "cell_type": "code",
   "execution_count": 86,
   "outputs": [
    {
     "data": {
      "text/plain": "'/Users/candacechatman/dev/test_agent/forge/sdk/battleship/battleship.py'"
     },
     "execution_count": 86,
     "metadata": {},
     "output_type": "execute_result"
    }
   ],
   "source": [
    "pyperclip.copy(game_impl)\n",
    "\n",
    "full_game = \"\"\"from typing import Dict\n",
    "\n",
    "from forge.sdk.battleship.abstract_class import (\n",
    "    AbstractBattleship,\n",
    "    Game,\n",
    "    GameStatus,\n",
    "    ShipPlacement,\n",
    "    Turn,\n",
    "    TurnResponse,\n",
    ")\n",
    "\n",
    "\n",
    "\"\"\"\n",
    "\n",
    "await write(full_game + game_impl, '/Users/candacechatman/dev/test_agent/forge/sdk/battleship/battleship.py')"
   ],
   "metadata": {
    "collapsed": false,
    "ExecuteTime": {
     "end_time": "2023-10-26T21:02:00.119320Z",
     "start_time": "2023-10-26T21:02:00.088694Z"
    }
   }
  },
  {
   "cell_type": "code",
   "execution_count": 69,
   "outputs": [],
   "source": [
    "main_impl = create(task + '\\n\\nMain Assert/Test Implementation for Job Interview. Make sure you comment every line. Pay close attention to id and types. Notes: Always ensure that functions return all necessary data that callers might need for further operations. Before finalizing a function, double-check if the return value facilitates all intended interactions.\\n\\n```python\\nfrom models import *\\n', max_tokens=2500, stop=['```'])\n",
    "pyperclip.copy(main_impl)"
   ],
   "metadata": {
    "collapsed": false,
    "ExecuteTime": {
     "end_time": "2023-10-26T20:40:53.230785Z",
     "start_time": "2023-10-26T20:40:49.307426Z"
    }
   }
  },
  {
   "cell_type": "code",
   "execution_count": null,
   "outputs": [],
   "source": [
    "def test_no_ship_overlap(battleship_game):\n",
    "    game_id = battleship_game.create_game()\n",
    "    placement1 = ShipPlacement(\n",
    "        ship_type=\"battleship\", start={\"row\": 1, \"column\": \"A\"}, direction=\"horizontal\"\n",
    "    )\n",
    "    battleship_game.create_ship_placement(game_id, placement1)\n",
    "    placement2 = ShipPlacement(\n",
    "        ship_type=\"cruiser\", start={\"row\": 1, \"column\": \"A\"}, direction=\"horizontal\"\n",
    "    )\n",
    "    with pytest.raises(ValueError):\n",
    "        battleship_game.create_ship_placement(game_id, placement2)"
   ],
   "metadata": {
    "collapsed": false
   }
  }
 ],
 "metadata": {
  "kernelspec": {
   "display_name": "Python 3",
   "language": "python",
   "name": "python3"
  },
  "language_info": {
   "codemirror_mode": {
    "name": "ipython",
    "version": 2
   },
   "file_extension": ".py",
   "mimetype": "text/x-python",
   "name": "python",
   "nbconvert_exporter": "python",
   "pygments_lexer": "ipython2",
   "version": "2.7.6"
  }
 },
 "nbformat": 4,
 "nbformat_minor": 0
}
